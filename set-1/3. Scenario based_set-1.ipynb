{
 "cells": [
  {
   "cell_type": "code",
   "execution_count": 1,
   "id": "471e40cf-ae2f-4c2b-a9d3-607ec95a7ffb",
   "metadata": {},
   "outputs": [
    {
     "name": "stdin",
     "output_type": "stream",
     "text": [
      "Enter your name: g\n",
      "Enter your age: 8\n"
     ]
    },
    {
     "name": "stdout",
     "output_type": "stream",
     "text": [
      "You are not eligible for vote\n"
     ]
    }
   ],
   "source": [
    "# 1. A system checks if a user is eligible to vote based on their age.Write logic to ask the user for their age and determine if they are eligible to vote based on whether they are 18 or older.\n",
    "\n",
    "Name = input(\"Enter your name:\")\n",
    "Age = int(input(\"Enter your age:\"))\n",
    "\n",
    "if Age >= 18:\n",
    "    print(\"You are eligible for vote\")\n",
    "else:\n",
    "    print(\"You are not eligible for vote\")"
   ]
  },
  {
   "cell_type": "code",
   "execution_count": 2,
   "id": "cec02ba0-5441-46ac-8cf1-72415f75b8ed",
   "metadata": {},
   "outputs": [
    {
     "name": "stdout",
     "output_type": "stream",
     "text": [
      "Largest Value is:  9\n"
     ]
    }
   ],
   "source": [
    "# 2. A program processes a list of numbers and needs to find the largest value. Write logic to identify and return the largest number from a given list.\n",
    "\n",
    "lists= [1,2,3,4,9,5]\n",
    "for List in lists:\n",
    "    if List >= max(lists):\n",
    "        print(\"Largest Value is: \", max(lists))"
   ]
  },
  {
   "cell_type": "code",
   "execution_count": 3,
   "id": "6a0719e9-9a3b-4740-b11c-749655d50542",
   "metadata": {},
   "outputs": [
    {
     "name": "stdout",
     "output_type": "stream",
     "text": [
      "Yogitha gets salary is 100000\n",
      "Yogitha total salary will get after adding bonus amount 110000.0\n",
      "Venkad gets salary is 120000\n",
      "Venkad total salary will get after adding bonus amount 132000.0\n"
     ]
    }
   ],
   "source": [
    "# 3. A company provides employees with a 10% bonus if their salary exceeds $50,000.\n",
    "\n",
    "# 1. Read the dataset\n",
    "employees = [\n",
    "    {\"name\": \"Anbu\", \"salary\": 10000},\n",
    "    {\"name\": \"Babu\", \"salary\": 40000},\n",
    "    {\"name\": \"Yogitha\", \"salary\": 100000},\n",
    "    {\"name\": \"Venkad\", \"salary\": 120000}]\n",
    "\n",
    "# 2. Find who gets salary above $50000\n",
    "higher_salary = [employee for employee in employees if employee['salary']>50000]\n",
    "\n",
    "# 3. Adding bonus amount 10%\n",
    "for employee in higher_salary:\n",
    "    print(employee['name'], 'gets salary is',employee['salary'])\n",
    "    print(employee['name'], 'total salary will get after adding bonus amount',employee['salary']*0.10+employee['salary'])"
   ]
  },
  {
   "cell_type": "code",
   "execution_count": 4,
   "id": "4f9ae0c6-85ec-439f-ad58-d6ed78746f2c",
   "metadata": {},
   "outputs": [
    {
     "name": "stdin",
     "output_type": "stream",
     "text": [
      "Enter any number: 7\n"
     ]
    },
    {
     "name": "stdout",
     "output_type": "stream",
     "text": [
      "The given number is ODD\n"
     ]
    }
   ],
   "source": [
    "# 4. A program evaluates a number to determine if it is even or odd.\n",
    "\n",
    "# 1. Writing a input statement for gets users input number\n",
    "i = int(input('Enter any number:'))\n",
    "\n",
    "# 2. Writing a condition for finding the given input value is Odd or Even\n",
    "if (i%2==0):\n",
    "    print(\"The given number is EVEN\")\n",
    "else:\n",
    "    print(\"The given number is ODD\")"
   ]
  },
  {
   "cell_type": "code",
   "execution_count": 5,
   "id": "234a4b48-4a98-48c4-8663-273cccbc7356",
   "metadata": {},
   "outputs": [
    {
     "data": {
      "text/plain": [
       "'nohtyP'"
      ]
     },
     "execution_count": 5,
     "metadata": {},
     "output_type": "execute_result"
    }
   ],
   "source": [
    "# 5. A text-processing tool reverses a given word or sentence for formatting purposes.\n",
    "word = 'Python'\n",
    "reversed_word = word[::-1]\n",
    "reversed_word"
   ]
  },
  {
   "cell_type": "code",
   "execution_count": 6,
   "id": "6014c1d8-f154-40e0-bc12-33973b37f2c0",
   "metadata": {},
   "outputs": [
    {
     "name": "stdin",
     "output_type": "stream",
     "text": [
      "Enter the Tamil Mark: 8\n",
      "Enter the English Mark: 8\n",
      "Enter the Maths Mark: 8\n",
      "Enter the Science Mark: 98\n",
      "Enter the Social Mark: 9\n"
     ]
    },
    {
     "name": "stdout",
     "output_type": "stream",
     "text": [
      "Fail\n"
     ]
    }
   ],
   "source": [
    "# 6. A grading system determines whether a student has passed or failed based on their score.\n",
    "# Write logic to check if a student has passed a subject by scoring at least 40 marks.\n",
    "\n",
    "subject1 = int(input('Enter the Tamil Mark:'))\n",
    "subject2 = int(input('Enter the English Mark:'))\n",
    "subject3 = int(input('Enter the Maths Mark:'))\n",
    "subject4 = int(input('Enter the Science Mark:'))\n",
    "subject5 = int(input('Enter the Social Mark:'))\n",
    "\n",
    "if(subject1>=40 and subject2>=40 and subject3>=40 and subject4>=40 and subject5>=40):\n",
    "    print('Pass')\n",
    "else:\n",
    "    print('Fail')"
   ]
  },
  {
   "cell_type": "code",
   "execution_count": 7,
   "id": "c73f6dd9-054a-4337-91c3-8cda0f3f2a41",
   "metadata": {},
   "outputs": [
    {
     "name": "stdout",
     "output_type": "stream",
     "text": [
      "Venkad total purchaned amount is:  1000\n",
      "Venkad should pay after applied 20% discount:  800.0\n"
     ]
    }
   ],
   "source": [
    "# 7. A retail store offers a 20% discount if a customer’s total order exceeds $100. \n",
    "#Write logic to calculate the final amount to be paid after applying the discount.\n",
    "\n",
    "# 1. Read the dataset\n",
    "employees = [\n",
    "    {\"name\": \"Yogitha\", \"order_amount\": 90},\n",
    "    {\"name\": \"Venkad\", \"order_amount\": 1000}]\n",
    "\n",
    "# 2. Find who gets salary above $50000\n",
    "higher_salary = [employee for employee in employees if employee['order_amount']>100]\n",
    "\n",
    "# 3. Adding bonus amount 10%\n",
    "for employee in higher_salary:\n",
    "    print(employee['name'], 'total purchaned amount is: ',employee['order_amount'])\n",
    "    print(employee['name'], 'should pay after applied 20% discount: ',employee['order_amount']-employee['order_amount']*0.20)"
   ]
  },
  {
   "cell_type": "code",
   "execution_count": 8,
   "id": "dd1b8196-8812-4c31-9df4-12e077b1c840",
   "metadata": {},
   "outputs": [
    {
     "name": "stdin",
     "output_type": "stream",
     "text": [
      "Enter your 4 digit password:  8\n"
     ]
    },
    {
     "name": "stdout",
     "output_type": "stream",
     "text": [
      "Enter password is wrong, please try again with correct password\n"
     ]
    }
   ],
   "source": [
    "# 8. A banking system processes withdrawal requests and ensures the user has enough balance.\n",
    "#Write logic to check if a user has enough balance before allowing a withdrawal and update the remaining balance accordingly\n",
    "\n",
    "The_user_hold_amount= int(500)\n",
    "Account_number = \"**********1234\"\n",
    "password = int(input(\"Enter your 4 digit password: \"))\n",
    "if password == 5990:\n",
    "    print(\"Your Account Number is: \",Account_number,\"\\n\" \"Welcome to HDFC Bank\")\n",
    "else:\n",
    "    print(\"Enter password is wrong, please try again with correct password\")\n",
    "\n",
    "# 2. Withdrawal Process\n",
    "if password == 5990:\n",
    "    withdrawal = input(\"Would you like to withdrawal your money: Yes/No\")\n",
    "    if withdrawal == \"Yes\" or \"yes\":\n",
    "        money = int(input(\"Enter your amount to withdrawal: \"))\n",
    "    if money <= The_user_hold_amount:\n",
    "        print(\"Withdrawal processing\")\n",
    "        print(\"Remaining balance: \",The_user_hold_amount - money)\n",
    "    else:\n",
    "        no_money = print(\"No enough balance\")"
   ]
  },
  {
   "cell_type": "code",
   "execution_count": 9,
   "id": "aaf1de9c-9b19-40d6-b5cf-2eb36615265e",
   "metadata": {},
   "outputs": [
    {
     "name": "stdin",
     "output_type": "stream",
     "text": [
      "Enter the year:  9\n"
     ]
    },
    {
     "name": "stdout",
     "output_type": "stream",
     "text": [
      "Enter the year is not Leap year\n"
     ]
    }
   ],
   "source": [
    "# 9. A calendar system verifies whether a given year is a leap year based on standard leap year rules.\n",
    "\n",
    "year = int(input(\"Enter the year: \"))\n",
    "if ((year%4)==0):\n",
    "    print(\"Enter the year is Leap year\")\n",
    "else:\n",
    "    print(\"Enter the year is not Leap year\")"
   ]
  },
  {
   "cell_type": "code",
   "execution_count": 17,
   "id": "e33b3770-2ca5-41bd-ab31-855ac74c773a",
   "metadata": {},
   "outputs": [],
   "source": [
    "# 10. A program filters out only even numbers from a given list.\n",
    "# Write logic to extract and return only the even numbers from a list.\n",
    "\n",
    "lists = [1,2,3,4,5,6,7,8,99]\n",
    "even = []\n",
    "def filter_even(lists):\n",
    "    for list in lists:\n",
    "        if ((list%2)==0):\n",
    "            even.append(list)\n",
    "            \n",
    "    return list"
   ]
  },
  {
   "cell_type": "code",
   "execution_count": 22,
   "id": "eae678ee-9118-4123-b4ee-d0ae9e810a94",
   "metadata": {},
   "outputs": [],
   "source": [
    "# 10. A program filters out only even numbers from a given list.\n",
    "# Write logic to extract and return only the even numbers from a list.\n",
    "\n",
    "lists = [1,2,3,4,5,6,7,8,99]\n",
    "even = []\n",
    "#def filter_even(lists):\n",
    "for list in lists:\n",
    "    if ((list%2)==0):\n",
    "        even.append(list)"
   ]
  },
  {
   "cell_type": "code",
   "execution_count": 23,
   "id": "d3e6322f-ddf7-417b-8a65-88f9e10e6d87",
   "metadata": {},
   "outputs": [
    {
     "data": {
      "text/plain": [
       "[2, 4, 6, 8]"
      ]
     },
     "execution_count": 23,
     "metadata": {},
     "output_type": "execute_result"
    }
   ],
   "source": [
    "even"
   ]
  },
  {
   "cell_type": "code",
   "execution_count": null,
   "id": "bd3b7e70-8a83-45b0-b691-5180239a999c",
   "metadata": {},
   "outputs": [],
   "source": []
  }
 ],
 "metadata": {
  "kernelspec": {
   "display_name": "Python 3 (ipykernel)",
   "language": "python",
   "name": "python3"
  },
  "language_info": {
   "codemirror_mode": {
    "name": "ipython",
    "version": 3
   },
   "file_extension": ".py",
   "mimetype": "text/x-python",
   "name": "python",
   "nbconvert_exporter": "python",
   "pygments_lexer": "ipython3",
   "version": "3.11.5"
  }
 },
 "nbformat": 4,
 "nbformat_minor": 5
}
