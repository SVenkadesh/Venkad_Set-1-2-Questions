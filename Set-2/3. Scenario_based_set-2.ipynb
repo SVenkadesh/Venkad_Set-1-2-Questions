{
 "cells": [
  {
   "cell_type": "code",
   "execution_count": 1,
   "id": "5bf0f772-c2a2-4098-b344-8bc4532a97a9",
   "metadata": {},
   "outputs": [
    {
     "name": "stdin",
     "output_type": "stream",
     "text": [
      "Enter the amount:  100\n"
     ]
    },
    {
     "name": "stdout",
     "output_type": "stream",
     "text": [
      "Entered amount is possitive\n"
     ]
    }
   ],
   "source": [
    "# 1. You are developing a banking application that categorizes transactions based on the amount entered.\n",
    "# Write logic to determine whether the amount is positive, negative, or zero.\n",
    "\n",
    "amount = int(input(\"Enter the amount: \"))\n",
    "\n",
    "if amount >0:\n",
    "    print(\"Entered amount is possitive\")    \n",
    "elif(amount<0):\n",
    "    print(\"Entered amount is negative\")\n",
    "else:\n",
    "    print(\"Entered amount is zero\")\n"
   ]
  },
  {
   "cell_type": "code",
   "execution_count": 2,
   "id": "f24935ac-1283-4c2c-a685-e0b5df473f29",
   "metadata": {},
   "outputs": [
    {
     "name": "stdin",
     "output_type": "stream",
     "text": [
      "Enter your 4 digit passcode:  5990\n"
     ]
    },
    {
     "name": "stdout",
     "output_type": "stream",
     "text": [
      "Sum of your passcode digit is:  23\n"
     ]
    }
   ],
   "source": [
    "# 2. A digital locker requires users to enter a numerical passcode. As part of a security feature, the system checks the sum of the digits of the passcode.\n",
    "# Write logic to compute the sum of the digits of a given number.\n",
    "\n",
    "passcode = int(input(\"Enter your 4 digit passcode: \"))\n",
    "passcode = str(passcode)\n",
    "if len(passcode) > 4:\n",
    "    print(\"Enter only 4 digit passcode\")\n",
    "else:\n",
    "    digits = [int(digit) for digit in passcode]\n",
    "    digits = digits[0] + digits[1] + digits[2] + digits[3]\n",
    "    print(\"Sum of your passcode digit is: \",digits)"
   ]
  },
  {
   "cell_type": "code",
   "execution_count": 3,
   "id": "1ffd3fe3-af78-42f1-abff-703a4118eba0",
   "metadata": {},
   "outputs": [
    {
     "data": {
      "text/plain": [
       "9123456789"
      ]
     },
     "execution_count": 3,
     "metadata": {},
     "output_type": "execute_result"
    }
   ],
   "source": [
    "# 3. A mobile payment app uses a simple checksum validation where reversing a transaction ID helps detect fraud.\n",
    "# Write logic to take a number and return its reverse.\n",
    "\n",
    "tran_id = \"9876543219\"\n",
    "reverse_tran_id = tran_id[::-1]\n",
    "reverse_tran_id = int(reverse_tran_id)\n",
    "reverse_tran_id"
   ]
  },
  {
   "cell_type": "code",
   "execution_count": 4,
   "id": "2d17a669-32f7-42e3-ba5c-fc766217ecbf",
   "metadata": {},
   "outputs": [
    {
     "name": "stdin",
     "output_type": "stream",
     "text": [
      "Enter any numbers to check is Prime or Not:  371\n"
     ]
    },
    {
     "name": "stdout",
     "output_type": "stream",
     "text": [
      "The entered number is Not Prime\n"
     ]
    }
   ],
   "source": [
    "# 4. In a secure login system, certain features are enabled only for users with prime-numbered user IDs.\n",
    "# Write logic to check if a given number is prime.\n",
    "\n",
    "import math\n",
    "\n",
    "n = int(input(\"Enter any numbers to check is Prime or Not: \"))\n",
    "if n <= 1:\n",
    "    print(\"The entered number is Not Prime\")\n",
    "else:\n",
    "    is_prime = (\"The entered number is Prime\")\n",
    "    for i in range(2, int(math.sqrt(n)) + 1):\n",
    "        if n % i == 0:\n",
    "            is_prime = (\"The entered number is Not Prime\")\n",
    "            break\n",
    "    print(is_prime)"
   ]
  },
  {
   "cell_type": "code",
   "execution_count": 5,
   "id": "8f4a5672-f17d-447b-a9d6-11b122c1027a",
   "metadata": {},
   "outputs": [
    {
     "name": "stdin",
     "output_type": "stream",
     "text": [
      "Enter any number:  9\n"
     ]
    },
    {
     "data": {
      "text/plain": [
       "362880"
      ]
     },
     "execution_count": 5,
     "metadata": {},
     "output_type": "execute_result"
    }
   ],
   "source": [
    "# 5. A scientist is working on permutations and needs to calculate the factorial of numbers frequently.\n",
    "# Write logic to find the factorial of a given number using recursion.\n",
    "\n",
    "import math\n",
    "n = int(input(\"Enter any number: \"))\n",
    "def factorial(n):\n",
    "    return math.factorial(n)\n",
    "factorial(n)"
   ]
  },
  {
   "cell_type": "code",
   "execution_count": 6,
   "id": "607b305e-a90a-4093-8e86-265c1961ebff",
   "metadata": {},
   "outputs": [
    {
     "name": "stdin",
     "output_type": "stream",
     "text": [
      "Enter a number:  987\n"
     ]
    },
    {
     "name": "stdout",
     "output_type": "stream",
     "text": [
      "987 is not an Armstrong number\n"
     ]
    }
   ],
   "source": [
    "# 6. A unique lottery system assigns ticket numbers where only Armstrong numbers win the jackpot.\n",
    "# Write logic to check whether a given number is an Armstrong number.\n",
    "\n",
    "\"\"\" Armstrong number is a number that is equal to the sum of cubes of its digits. For example 0, 1, 153, 370, 371 and 407 are the Armstrong numbers.\"\"\"\n",
    "# Python program to check if the number is an Armstrong number or not\n",
    "\n",
    "# take input from the user\n",
    "num = int(input(\"Enter a number: \")) \n",
    "\n",
    "# initialize sum\n",
    "sum = 0\n",
    "\n",
    "# find the sum of the cube of each digit\n",
    "temp = num \n",
    "while temp > 0: \n",
    "   digit = temp % 10\n",
    "   sum += digit ** 3 \n",
    "   temp //= 10\n",
    "# display the result\n",
    "if num == sum:\n",
    "   print(num,\"is an Armstrong number\")\n",
    "else:\n",
    "   print(num,\"is not an Armstrong number\")"
   ]
  },
  {
   "cell_type": "code",
   "execution_count": null,
   "id": "48d33f0e-7bc6-43b5-9775-a4d868ccc507",
   "metadata": {},
   "outputs": [],
   "source": [
    "# 7. : A password manager needs to strengthen weak passwords by swapping the first and last characters of user-generated passwords.\n",
    "# Write logic to perform this operation on a given string.\n",
    "\n"
   ]
  },
  {
   "cell_type": "code",
   "execution_count": 7,
   "id": "7c96f324-95ff-4847-91df-5d4ecd70c8b4",
   "metadata": {},
   "outputs": [
    {
     "name": "stdin",
     "output_type": "stream",
     "text": [
      "Enter number:  97\n"
     ]
    },
    {
     "name": "stdout",
     "output_type": "stream",
     "text": [
      "1100001\n"
     ]
    }
   ],
   "source": [
    "# 8. A low-level networking application requires decimal numbers to be converted into binary format before transmission.\n",
    "# Write logic to convert a given decimal number into its binary equivalent.\n",
    "\n",
    "n = int(input(\"Enter number: \"))\n",
    "binary =''\n",
    "\n",
    "while n > 0:\n",
    "    binary = str(n%2) + binary\n",
    "    n//=2\n",
    "\n",
    "print(binary) #"
   ]
  },
  {
   "cell_type": "code",
   "execution_count": 8,
   "id": "c6d74af5-0022-417b-978c-d863b2daaa1c",
   "metadata": {},
   "outputs": [
    {
     "data": {
      "text/plain": [
       "3"
      ]
     },
     "execution_count": 8,
     "metadata": {},
     "output_type": "execute_result"
    }
   ],
   "source": [
    "# 9. A text-processing tool helps summarize articles by identifying the most significant words.\n",
    "# Write logic to find the longest word in a sentence.\n",
    "\n",
    "from collections import Counter\n",
    "list = [1,2,3,3,3,3,3,4,5,6]\n",
    "\n",
    "frq = Counter(list).most_common()[0][0]\n",
    "frq"
   ]
  },
  {
   "cell_type": "code",
   "execution_count": 9,
   "id": "bf1ae21d-936f-4b65-9ab9-bf892d16f612",
   "metadata": {},
   "outputs": [
    {
     "name": "stdout",
     "output_type": "stream",
     "text": [
      "Yes\n"
     ]
    }
   ],
   "source": [
    "# 10. A plagiarism detection tool compares words from different documents and checks if they are anagrams (same characters but different order).\n",
    "# Write logic to check whether two given strings are anagrams.\n",
    "\n",
    "word_1 ='well done'\n",
    "word_2 ='done well'\n",
    "\n",
    "if sorted(word_1) == sorted(word_2):\n",
    "    print('Yes')\n",
    "else:\n",
    "    print('No')"
   ]
  },
  {
   "cell_type": "code",
   "execution_count": null,
   "id": "05fb0f5f-88f8-4541-bc87-dc539a2b050d",
   "metadata": {},
   "outputs": [],
   "source": []
  }
 ],
 "metadata": {
  "kernelspec": {
   "display_name": "Python 3 (ipykernel)",
   "language": "python",
   "name": "python3"
  },
  "language_info": {
   "codemirror_mode": {
    "name": "ipython",
    "version": 3
   },
   "file_extension": ".py",
   "mimetype": "text/x-python",
   "name": "python",
   "nbconvert_exporter": "python",
   "pygments_lexer": "ipython3",
   "version": "3.11.5"
  }
 },
 "nbformat": 4,
 "nbformat_minor": 5
}
